{
  "cells": [
    {
      "cell_type": "markdown",
      "metadata": {
        "id": "view-in-github",
        "colab_type": "text"
      },
      "source": [
        "<a href=\"https://colab.research.google.com/github/Visveswaran01/IDDFS/blob/main/123015117_Lab3.ipynb\" target=\"_parent\"><img src=\"https://colab.research.google.com/assets/colab-badge.svg\" alt=\"Open In Colab\"/></a>"
      ]
    },
    {
      "cell_type": "code",
      "execution_count": 1,
      "metadata": {
        "id": "0d47cf6d"
      },
      "outputs": [],
      "source": [
        "def pos0(matrix):\n",
        "  for i in range(0,len(matrix)):\n",
        "    for j in range(0,len(matrix[i])):\n",
        "      if matrix[i][j] == 0:\n",
        "        return (i,j)"
      ],
      "id": "0d47cf6d"
    },
    {
      "cell_type": "code",
      "execution_count": 2,
      "metadata": {
        "id": "568a80e2"
      },
      "outputs": [],
      "source": [
        "def validChoice(coordinates):\n",
        "    if(coordinates[0] < 0 or coordinates[1] < 0 or coordinates[0] > 2 or coordinates[1] > 2):\n",
        "        return False\n",
        "    \n",
        "    return True"
      ],
      "id": "568a80e2"
    },
    {
      "cell_type": "code",
      "execution_count": 3,
      "metadata": {
        "id": "425912f4"
      },
      "outputs": [],
      "source": [
        "def swap(a,b,matrix): \n",
        "    temp = matrix[a[0]][a[1]]\n",
        "    matrix[a[0]][a[1]] = matrix[b[0]][b[1]]\n",
        "    matrix[b[0]][b[1]] = temp\n",
        "    return matrix"
      ],
      "id": "425912f4"
    },
    {
      "cell_type": "code",
      "execution_count": 4,
      "metadata": {
        "id": "cbaed924"
      },
      "outputs": [],
      "source": [
        "import copy\n",
        "\n",
        "#perform dfs upto specified depth\n",
        "def dfs(visited,inpath,choice,target,currlvl,depth):\n",
        "    \n",
        "    global reached_goal\n",
        "    \n",
        "    if (currlvl > depth or choice in visited):\n",
        "        return\n",
        "    \n",
        "    visited.append(choice)\n",
        "    inpath.append(choice)\n",
        "\n",
        "    if choice == target and reached_goal == False:\n",
        "      print(\"Path to goal state : \")\n",
        "      for x in inpath:\n",
        "        print(x)\n",
        "      reached_goal = True\n",
        "      visited.pop()\n",
        "      inpath.pop()\n",
        "      return \n",
        "    elif reached_goal == True:\n",
        "      return\n",
        "    \n",
        "    #Find the position of zero in choice\n",
        "    where0 = pos0(choice)\n",
        "    \n",
        "    childChoices = []\n",
        "            \n",
        "    childChoices.append((where0[0],where0[1]-1))\n",
        "    childChoices.append((where0[0],where0[1]+1))\n",
        "    childChoices.append((where0[0]-1,where0[1]))\n",
        "    childChoices.append((where0[0]+1,where0[1]))\n",
        "            \n",
        "    for ch in childChoices:\n",
        "        if(validChoice(ch)):\n",
        "            cm = swap(ch,where0,copy.deepcopy(choice))\n",
        "            dfs(visited,inpath,cm,target,currlvl+1,depth)\n",
        "    \n",
        "    visited.pop()\n",
        "    inpath.pop()"
      ],
      "id": "cbaed924"
    },
    {
      "cell_type": "code",
      "execution_count": 5,
      "metadata": {
        "id": "ApLKS3S0jQbD"
      },
      "outputs": [],
      "source": [
        "#Global Variable\n",
        "reached_goal = False"
      ],
      "id": "ApLKS3S0jQbD"
    },
    {
      "cell_type": "code",
      "execution_count": 6,
      "metadata": {
        "id": "ESZ4sWMX0xL2"
      },
      "outputs": [],
      "source": [
        "def iddfs(initial,target):\n",
        "  depth = 1\n",
        "  global reached_goal \n",
        " \n",
        "  while not reached_goal:\n",
        "     visited1 = list()\n",
        "     inpath = list()\n",
        "     dfs(visited1,inpath,initial,target,0,depth)\n",
        "     depth *= 2"
      ],
      "id": "ESZ4sWMX0xL2"
    },
    {
      "cell_type": "code",
      "execution_count": 7,
      "metadata": {
        "colab": {
          "base_uri": "https://localhost:8080/"
        },
        "id": "TnICbVlhjxn8",
        "outputId": "ba9c4fbb-0e44-49cc-c410-17604b21c175"
      },
      "outputs": [
        {
          "output_type": "stream",
          "name": "stdout",
          "text": [
            "Please give the entries of initial state in row-wise:\n",
            "0 3 5\n",
            "1 7 2\n",
            "8 4 6\n",
            "\n",
            "Path to goal state : \n",
            "[[0, 3, 5], [1, 7, 2], [8, 4, 6]]\n",
            "[[1, 3, 5], [0, 7, 2], [8, 4, 6]]\n",
            "[[1, 3, 5], [7, 0, 2], [8, 4, 6]]\n",
            "[[1, 3, 5], [7, 2, 0], [8, 4, 6]]\n",
            "[[1, 3, 0], [7, 2, 5], [8, 4, 6]]\n",
            "[[1, 0, 3], [7, 2, 5], [8, 4, 6]]\n",
            "[[1, 2, 3], [7, 0, 5], [8, 4, 6]]\n",
            "[[1, 2, 3], [0, 7, 5], [8, 4, 6]]\n",
            "[[1, 2, 3], [8, 7, 5], [0, 4, 6]]\n",
            "[[1, 2, 3], [8, 7, 5], [4, 0, 6]]\n",
            "[[1, 2, 3], [8, 0, 5], [4, 7, 6]]\n",
            "[[1, 2, 3], [0, 8, 5], [4, 7, 6]]\n",
            "[[1, 2, 3], [4, 8, 5], [0, 7, 6]]\n",
            "[[1, 2, 3], [4, 8, 5], [7, 0, 6]]\n",
            "[[1, 2, 3], [4, 0, 5], [7, 8, 6]]\n",
            "[[1, 2, 3], [4, 5, 0], [7, 8, 6]]\n",
            "[[1, 2, 3], [4, 5, 6], [7, 8, 0]]\n"
          ]
        }
      ],
      "source": [
        "print(\"Please give the entries of initial state in row-wise:\")  \n",
        "\n",
        "initial = [] \n",
        "\n",
        "for i in range(3): \n",
        "  single_row = list(map(int, input().split()))  \n",
        "  initial.append(single_row)  \n",
        "\n",
        "target =  [ [ 1, 2, 3 ],  \n",
        "            [ 4, 5, 6 ],  \n",
        "            [ 7, 8, 0 ] \n",
        "          ]  \n",
        "\n",
        "print()\n",
        "iddfs(initial,target)"
      ],
      "id": "TnICbVlhjxn8"
    }
  ],
  "metadata": {
    "colab": {
      "provenance": [],
      "include_colab_link": true
    },
    "kernelspec": {
      "display_name": "Python 3",
      "language": "python",
      "name": "python3"
    },
    "language_info": {
      "codemirror_mode": {
        "name": "ipython",
        "version": 3
      },
      "file_extension": ".py",
      "mimetype": "text/x-python",
      "name": "python",
      "nbconvert_exporter": "python",
      "pygments_lexer": "ipython3",
      "version": "3.8.8"
    }
  },
  "nbformat": 4,
  "nbformat_minor": 5
}