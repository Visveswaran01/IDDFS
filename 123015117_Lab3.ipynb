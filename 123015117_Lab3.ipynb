{
  "cells": [
    {
      "cell_type": "markdown",
      "metadata": {
        "id": "view-in-github",
        "colab_type": "text"
      },
      "source": [
        "<a href=\"https://colab.research.google.com/github/Visveswaran01/IDDFS/blob/main/123015117_Lab3.ipynb\" target=\"_parent\"><img src=\"https://colab.research.google.com/assets/colab-badge.svg\" alt=\"Open In Colab\"/></a>"
      ]
    },
    {
      "cell_type": "code",
      "execution_count": null,
      "id": "0d47cf6d",
      "metadata": {
        "id": "0d47cf6d"
      },
      "outputs": [],
      "source": [
        "def pos0(matrix):\n",
        "  for i in range(0,len(matrix)):\n",
        "    for j in range(0,len(matrix[i])):\n",
        "      if matrix[i][j] == 0:\n",
        "        return (i,j)"
      ]
    },
    {
      "cell_type": "code",
      "execution_count": null,
      "id": "568a80e2",
      "metadata": {
        "id": "568a80e2"
      },
      "outputs": [],
      "source": [
        "def validChoice(coordinates):\n",
        "    if(coordinates[0] < 0 or coordinates[1] < 0 or coordinates[0] > 2 or coordinates[1] > 2):\n",
        "        return False\n",
        "    \n",
        "    return True"
      ]
    },
    {
      "cell_type": "code",
      "execution_count": null,
      "id": "425912f4",
      "metadata": {
        "id": "425912f4"
      },
      "outputs": [],
      "source": [
        "def swap(a,b,matrix): \n",
        "    temp = matrix[a[0]][a[1]]\n",
        "    matrix[a[0]][a[1]] = matrix[b[0]][b[1]]\n",
        "    matrix[b[0]][b[1]] = temp\n",
        "    return matrix"
      ]
    },
    {
      "cell_type": "code",
      "execution_count": null,
      "id": "cbaed924",
      "metadata": {
        "id": "cbaed924"
      },
      "outputs": [],
      "source": [
        "import copy\n",
        "\n",
        "#perform dfs upto specified depth\n",
        "def dfs(visited,inpath,choice,target,currlvl,depth):\n",
        "    \n",
        "    global reached_goal\n",
        "    \n",
        "    if (currlvl > depth or choice in visited):\n",
        "        return\n",
        "    \n",
        "    visited.append(choice)\n",
        "    inpath.append(choice)\n",
        "\n",
        "    if choice == target and reached_goal == False:\n",
        "      print(\"Path to goal state : \")\n",
        "      for x in inpath:\n",
        "        print(x)\n",
        "      reached_goal = True\n",
        "      visited.pop()\n",
        "      inpath.pop()\n",
        "      return \n",
        "    elif reached_goal == True:\n",
        "      return\n",
        "    \n",
        "    #Find the position of zero in choice\n",
        "    where0 = pos0(choice)\n",
        "    \n",
        "    childChoices = []\n",
        "            \n",
        "    childChoices.append((where0[0],where0[1]-1))\n",
        "    childChoices.append((where0[0],where0[1]+1))\n",
        "    childChoices.append((where0[0]-1,where0[1]))\n",
        "    childChoices.append((where0[0]+1,where0[1]))\n",
        "            \n",
        "    for ch in childChoices:\n",
        "        if(validChoice(ch)):\n",
        "            cm = swap(ch,where0,copy.deepcopy(choice))\n",
        "            dfs(visited,inpath,cm,target,currlvl+1,depth)\n",
        "    \n",
        "    visited.pop()\n",
        "    inpath.pop()"
      ]
    },
    {
      "cell_type": "code",
      "source": [
        "#Global Variable\n",
        "reached_goal = False"
      ],
      "metadata": {
        "id": "ApLKS3S0jQbD"
      },
      "id": "ApLKS3S0jQbD",
      "execution_count": null,
      "outputs": []
    },
    {
      "cell_type": "code",
      "source": [
        "def iddfs(initial,target):\n",
        "  depth = 1\n",
        "  global reached_goal \n",
        " \n",
        "  while not reached_goal:\n",
        "     visited1 = list()\n",
        "     inpath = list()\n",
        "     dfs(visited1,inpath,initial,target,0,depth)\n",
        "     depth *= 2"
      ],
      "metadata": {
        "id": "ESZ4sWMX0xL2"
      },
      "id": "ESZ4sWMX0xL2",
      "execution_count": null,
      "outputs": []
    },
    {
      "cell_type": "code",
      "source": [
        "print(\"Please give the entries of initial state in row-wise:\")  \n",
        "\n",
        "initial = [] \n",
        "\n",
        "for i in range(3): \n",
        "  single_row = list(map(int, input().split()))  \n",
        "  initial.append(single_row)  \n",
        "\n",
        "target =  [ [ 1, 2, 3 ],  \n",
        "            [ 4, 5, 6 ],  \n",
        "            [ 7, 8, 0 ] \n",
        "          ]  \n",
        "85\n",
        "print()\n",
        "iddfs(initial,target)"
      ],
      "metadata": {
        "colab": {
          "base_uri": "https://localhost:8080/"
        },
        "id": "TnICbVlhjxn8",
        "outputId": "6a7f1ae1-6d56-495c-eab1-6bf47d48da18"
      },
      "id": "TnICbVlhjxn8",
      "execution_count": null,
      "outputs": [
        {
          "output_type": "stream",
          "name": "stdout",
          "text": [
            "Please give the entries of initial state in row-wise:\n",
            "0 1 3\n",
            "4 2 5\n",
            "7 8 6\n",
            "\n",
            "Path to goal state : \n",
            "[[0, 1, 3], [4, 2, 5], [7, 8, 6]]\n",
            "[[1, 0, 3], [4, 2, 5], [7, 8, 6]]\n",
            "[[1, 2, 3], [4, 0, 5], [7, 8, 6]]\n",
            "[[1, 2, 3], [4, 5, 0], [7, 8, 6]]\n",
            "[[1, 2, 3], [4, 5, 6], [7, 8, 0]]\n"
          ]
        }
      ]
    }
  ],
  "metadata": {
    "kernelspec": {
      "display_name": "Python 3",
      "language": "python",
      "name": "python3"
    },
    "language_info": {
      "codemirror_mode": {
        "name": "ipython",
        "version": 3
      },
      "file_extension": ".py",
      "mimetype": "text/x-python",
      "name": "python",
      "nbconvert_exporter": "python",
      "pygments_lexer": "ipython3",
      "version": "3.8.8"
    },
    "colab": {
      "provenance": [],
      "include_colab_link": true
    }
  },
  "nbformat": 4,
  "nbformat_minor": 5
}